{
 "cells": [
  {
   "cell_type": "markdown",
   "id": "b79f3533",
   "metadata": {},
   "source": [
    "**CODE FOR SEMG DATASET GENERATION**"
   ]
  },
  {
   "cell_type": "code",
   "execution_count": 1,
   "id": "ae91458d",
   "metadata": {},
   "outputs": [],
   "source": [
    "# This code loads the sEMG files from the \"Database\" folder, and converts them into spectrogram images.\n",
    "# Each trial is named: grasp_type + channel number + trial number. E.g. cyl_ch1_1.csv\n",
    "# Each trial contains 2 images: cyl_ch1_1.csv and cyl_ch2_1.csv are converted to individual images."
   ]
  },
  {
   "cell_type": "code",
   "execution_count": 2,
   "id": "54844573",
   "metadata": {},
   "outputs": [],
   "source": [
    "import numpy as np\n",
    "from scipy.signal import stft\n",
    "import matplotlib.pyplot as plt\n",
    "from scipy.signal import spectrogram\n",
    "from PIL import Image"
   ]
  },
  {
   "cell_type": "code",
   "execution_count": null,
   "id": "5a6db40f",
   "metadata": {},
   "outputs": [],
   "source": [
    "# Two versions of spectrograms were computed: one with squared values, and one without.\n",
    "# The squared values approach helped emphasizing the differences in the value range of the spectrogram.\n",
    "\n",
    "# Both versions can be used for the classifier:\n",
    "# - Non-squared version is saved in \"spectrograms\" folder\n",
    "# - Squaed version is saved in \"spectrograms_squared\" folder"
   ]
  },
  {
   "cell_type": "markdown",
   "id": "8518d056",
   "metadata": {},
   "source": [
    "**NON_SQUARED VERSION OF SPECTROGRAMS**"
   ]
  },
  {
   "cell_type": "code",
   "execution_count": null,
   "id": "4baea4de",
   "metadata": {},
   "outputs": [],
   "source": [
    "# Definition of 6 grasp types\n",
    "grasp_type = ['cyl', 'hook', 'lat', 'palm', 'spher', 'tip']\n",
    "\n",
    "# For loop over each file in Database (each corresponding to a patient)\n",
    "for grasp in grasp_type:\n",
    "    for i in range(1,9):\n",
    "\n",
    "        # File selection for a patient, with channels 1 and 2 individually\n",
    "        data_ch1 = np.loadtxt('./Database/'+grasp + '_ch1_'+str(i)+'.csv', delimiter=',')\n",
    "        data_ch2 = np.loadtxt('./Database/'+grasp + '_ch2_'+str(i)+'.csv', delimiter=',')\n",
    "\n",
    "        # For loop over the trials of each patient and its sEMG signal\n",
    "        for j in range(data_ch1.shape[0]):\n",
    "\n",
    "            # Spectrogram calculation for channel 1 figures\n",
    "            f, t, Sxx = stft(data_ch1[j,0:2500], fs = 500)\n",
    "            Sxx = np.abs(Sxx)\n",
    "            Sxx_scaled = (Sxx - np.min(Sxx)) / (np.max(Sxx) - np.min(Sxx))\n",
    "\n",
    "            # Appearance modifications for spectrogram figures\n",
    "            plt.pcolormesh(t, f, Sxx_scaled,shading='gouraud')\n",
    "            plt.ylabel('Frequency [Hz]')\n",
    "            plt.xlabel('Time [sec]')\n",
    "            plt.axis('off')\n",
    "            plt.set_cmap('jet')\n",
    "            #plt.show()\n",
    "            plt.savefig('./semg_dataset/spectrograms/'+grasp + '_ch1_'+str(i)+'_'+str(j)+'.png')\n",
    "            plt.close()\n",
    "            \n",
    "            # Spectrogram calculation for channel 2 figures\n",
    "            f, t, Sxx = stft(data_ch2[j,0:2500], fs = 500)\n",
    "            Sxx = np.abs(Sxx)\n",
    "            Sxx_scaled = (Sxx - np.min(Sxx)) / (np.max(Sxx) - np.min(Sxx))\n",
    "\n",
    "            # Appearance modifications for spectrogram figures\n",
    "            plt.pcolormesh(t, f, Sxx_scaled,shading='gouraud')\n",
    "            plt.ylabel('Frequency [Hz]')\n",
    "            plt.xlabel('Time [sec]')\n",
    "            plt.axis('off')\n",
    "            plt.set_cmap('jet')\n",
    "            #plt.show()\n",
    "            plt.savefig('./semg_dataset/spectrograms/'+grasp + '_ch2_'+str(i)+'_'+str(j)+'.png')\n",
    "            plt.close()\n",
    "            \n",
    "            # Control print\n",
    "            print('Figure ' + str(j) + 'from subject ' + str(i) + 'saved')"
   ]
  },
  {
   "cell_type": "markdown",
   "id": "1a28eb1c",
   "metadata": {},
   "source": [
    "**SQUARED VERSION OF SPECTROGRAMS**"
   ]
  },
  {
   "cell_type": "code",
   "execution_count": null,
   "id": "463f6379",
   "metadata": {},
   "outputs": [],
   "source": [
    "# Definition of 6 grasp types\n",
    "grasp_type = ['cyl', 'hook', 'lat', 'palm', 'spher', 'tip']\n",
    "\n",
    "# For loop over each file in Database (each corresponding to a patient)\n",
    "for grasp in grasp_type:\n",
    "    for i in range(1,9):\n",
    "\n",
    "         # File selection for a patient, with channels 1 and 2 individually       \n",
    "        data_ch1 = np.loadtxt('./Database/'+grasp + '_ch1_'+str(i)+'.csv', delimiter=',')\n",
    "        data_ch2 = np.loadtxt('./Database/'+grasp + '_ch2_'+str(i)+'.csv', delimiter=',')\n",
    "        \n",
    "         # For loop over the trials of each patient and its sEMG signal\n",
    "        for j in range(data_ch1.shape[0]):\n",
    "\n",
    "            # Spectrogram calculation for channel 1 figures\n",
    "            f, t, Sxx = stft(data_ch1[j,0:2500], fs = 500)\n",
    "            Sxx = np.abs(Sxx)**2 # main difference\n",
    "            Sxx_scaled = (Sxx - np.min(Sxx)) / (np.max(Sxx) - np.min(Sxx))\n",
    "            \n",
    "            # Appearance modifications for spectrogram figures\n",
    "            plt.pcolormesh(t, f, Sxx_scaled,shading='gouraud')\n",
    "            plt.ylabel('Frequency [Hz]')\n",
    "            plt.xlabel('Time [sec]')\n",
    "            plt.axis('off')\n",
    "            plt.set_cmap('jet')\n",
    "            #plt.show()\n",
    "            plt.savefig('./semg_dataset/spectrograms_squared/'+grasp + '_ch1_'+str(i)+'_'+str(j)+'.png')\n",
    "            plt.close()\n",
    "\n",
    "            # Spectrogram calculation for channel 2 figures\n",
    "            f, t, Sxx = stft(data_ch2[j,0:2500], fs = 500)\n",
    "            Sxx = np.abs(Sxx)**2\n",
    "            Sxx_scaled = (Sxx - np.min(Sxx)) / (np.max(Sxx) - np.min(Sxx))\n",
    "            \n",
    "            # Appearance modifications for spectrogram figures\n",
    "            plt.pcolormesh(t, f, Sxx_scaled,shading='gouraud')\n",
    "            plt.ylabel('Frequency [Hz]')\n",
    "            plt.xlabel('Time [sec]')\n",
    "            plt.axis('off')\n",
    "            plt.set_cmap('jet')\n",
    "            #plt.show()\n",
    "            plt.savefig('./semg_dataset/spectrograms_squared/'+grasp + '_ch2_'+str(i)+'_'+str(j)+'.png')\n",
    "            plt.close()\n",
    "\n",
    "             # Control print\n",
    "            print('Figure ' + str(j) + 'from subject ' + str(i) + 'saved')"
   ]
  },
  {
   "cell_type": "markdown",
   "id": "ef50fe57",
   "metadata": {},
   "source": [
    "**STACK OF SPECTROGRAMS**"
   ]
  },
  {
   "cell_type": "code",
   "execution_count": null,
   "id": "4e60782e",
   "metadata": {},
   "outputs": [],
   "source": [
    "# This part of the code generates the final dataset\n",
    "# For each trial, channel 1 and channel 2 RGB images are stacked into a 6-D numpy volume, to be fed into the classifier\n",
    "\n",
    "# The results are saved in \"spectrograms_concat\""
   ]
  },
  {
   "cell_type": "code",
   "execution_count": null,
   "id": "73af664a",
   "metadata": {},
   "outputs": [],
   "source": [
    "# Definition of grasp types\n",
    "grasp_type = ['cyl', 'hook', 'lat', 'palm', 'spher', 'tip']\n",
    "\n",
    "# Loop over the first 6 patients, who have 30 trials each\n",
    "for grasp in grasp_type:\n",
    "    for i in range(1,6):\n",
    "        for j in range(30):\n",
    "\n",
    "            # Load two spectrograms\n",
    "            img1 = Image.open('./semg_dataset/spectrograms/'+grasp + '/'+ grasp + '_ch1_'+str(i)+'_'+str(j)+'.png')\n",
    "            img2 = Image.open('./semg_dataset/spectrograms/'+grasp + '/'+ grasp + '_ch2_'+str(i)+'_'+str(j)+'.png')\n",
    "            \n",
    "            # Set as numpy arrays\n",
    "            np1 = np.asarray(img1)[:,:,:3]\n",
    "            np2 = np.asarray(img2)[:,:,:3]\n",
    "            \n",
    "            #img1.show()\n",
    "            #img2.show()\n",
    "            \n",
    "            # Stack into 6D array\n",
    "            np_out = np.concatenate((np1,np2),2)\n",
    "            \n",
    "            # Save the results\n",
    "            print('File ' + str(30*(i-1)+(j+1)) + ' saved')\n",
    "            np.save('./semg_dataset/spectrograms_concat/'+grasp + '/'+ grasp +'_'+ str(30*(i-1)+(j+1)), np_out)\n",
    "\n",
    "\n",
    "# Loop over the last 4 patients, who have 100 trials each\n",
    "for grasp in grasp_type:\n",
    "    for i in range(1,4):\n",
    "        for j in range(100):\n",
    "\n",
    "            # Load two spectrograms\n",
    "            img1 = Image.open('./semg_dataset/spectrograms/'+grasp + '/'+ grasp + '_ch1_'+str(i+5)+'_'+str(j)+'.png')\n",
    "            img2 = Image.open('./semg_dataset/spectrograms/'+grasp + '/'+ grasp + '_ch2_'+str(i+5)+'_'+str(j)+'.png')\n",
    "\n",
    "            # Set as numpy arrays\n",
    "            np1 = np.asarray(img1)[:,:,:3]\n",
    "            np2 = np.asarray(img2)[:,:,:3]\n",
    "            \n",
    "            #img1.show()\n",
    "            #img2.show()\n",
    "            \n",
    "            # Stack into 6D array\n",
    "            np_out = np.concatenate((np1,np2),2)\n",
    "            \n",
    "            # Save the results\n",
    "            print('File ' + str(150+100*(i-1)+(j+1)) + ' saved')\n",
    "            np.save('./semg_dataset/spectrograms_concat/'+grasp + '/'+ grasp +'_'+ str(150+100*(i-1)+(j+1)), np_out)"
   ]
  },
  {
   "cell_type": "markdown",
   "id": "3430a903",
   "metadata": {},
   "source": [
    "**SEMG DATASET IS READY AT THIS POINT** - FOUND IN \"SPECTROGRAMS_CONCAT\""
   ]
  }
 ],
 "metadata": {
  "kernelspec": {
   "display_name": "Python 3 (ipykernel)",
   "language": "python",
   "name": "python3"
  },
  "language_info": {
   "codemirror_mode": {
    "name": "ipython",
    "version": 3
   },
   "file_extension": ".py",
   "mimetype": "text/x-python",
   "name": "python",
   "nbconvert_exporter": "python",
   "pygments_lexer": "ipython3",
   "version": "3.7.16"
  }
 },
 "nbformat": 4,
 "nbformat_minor": 5
}
